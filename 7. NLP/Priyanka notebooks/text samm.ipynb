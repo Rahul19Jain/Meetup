{
 "cells": [
  {
   "cell_type": "markdown",
   "metadata": {},
   "source": [
    "# Text Summarization with SpaCy\n"
   ]
  },
  {
   "cell_type": "markdown",
   "metadata": {},
   "source": [
    "Text summarization is the process of distilling the most important information from a source (or sources) to produce an abridged version for a particular user (or users) and task (or tasks).\n"
   ]
  },
  {
   "cell_type": "markdown",
   "metadata": {},
   "source": [
    "idea of summarization is to find a subset of data which contains the “information” of the entire set\n"
   ]
  },
  {
   "cell_type": "markdown",
   "metadata": {},
   "source": [
    "# Main Idea:\n",
    "    #Text Preprocessing(remove stopwords,punctuations).\n",
    "    #Frequency table of words/Word Frequency Distribution - how many times each word appears in the document\n",
    "    #Score each sentence depending on the words it contains and the frequency table\n",
    "    #Build summary by joining every sentence above a certain score limit"
   ]
  },
  {
   "cell_type": "code",
   "execution_count": 1,
   "metadata": {},
   "outputs": [],
   "source": [
    "# Load Pkgs\n",
    "import spacy"
   ]
  },
  {
   "cell_type": "code",
   "execution_count": 2,
   "metadata": {},
   "outputs": [],
   "source": [
    "# Text Preprocessing Pkg\n",
    "from spacy.lang.en.stop_words import STOP_WORDS\n",
    "from string import punctuation"
   ]
  },
  {
   "cell_type": "code",
   "execution_count": 3,
   "metadata": {},
   "outputs": [
    {
     "data": {
      "text/plain": [
       "['under',\n",
       " 'whoever',\n",
       " 'nevertheless',\n",
       " 'empty',\n",
       " 'used',\n",
       " 'whose',\n",
       " 'thereafter',\n",
       " 'first',\n",
       " 'while',\n",
       " 'were',\n",
       " 'some',\n",
       " 'our',\n",
       " 'will',\n",
       " 'front',\n",
       " 'less',\n",
       " 'somehow',\n",
       " 'next',\n",
       " 'twelve',\n",
       " '’ve',\n",
       " 'someone',\n",
       " 'enough',\n",
       " 'you',\n",
       " 'am',\n",
       " 'really',\n",
       " 'during',\n",
       " 'everyone',\n",
       " 'about',\n",
       " 'fifty',\n",
       " 'whereas',\n",
       " 'down',\n",
       " 'is',\n",
       " 'ever',\n",
       " 'nothing',\n",
       " 'however',\n",
       " 'give',\n",
       " 'off',\n",
       " 'regarding',\n",
       " 'which',\n",
       " 'its',\n",
       " 'five',\n",
       " 'what',\n",
       " 'namely',\n",
       " 'as',\n",
       " 'such',\n",
       " 'well',\n",
       " 'with',\n",
       " 'before',\n",
       " 'by',\n",
       " 'anything',\n",
       " 'here',\n",
       " 'everything',\n",
       " 'upon',\n",
       " 'four',\n",
       " 'another',\n",
       " 'one',\n",
       " 'ten',\n",
       " 'this',\n",
       " 'n‘t',\n",
       " 'how',\n",
       " 'i',\n",
       " 'make',\n",
       " 'hence',\n",
       " 'must',\n",
       " 'others',\n",
       " 'out',\n",
       " 'onto',\n",
       " 'seeming',\n",
       " 'if',\n",
       " 'was',\n",
       " 'anywhere',\n",
       " 'his',\n",
       " 'they',\n",
       " 'nobody',\n",
       " 'below',\n",
       " 'same',\n",
       " 'that',\n",
       " 'serious',\n",
       " 'whatever',\n",
       " 'into',\n",
       " 'noone',\n",
       " 'cannot',\n",
       " 'three',\n",
       " 'name',\n",
       " 'itself',\n",
       " 'most',\n",
       " 'therefore',\n",
       " 'than',\n",
       " 'after',\n",
       " 'per',\n",
       " 'herein',\n",
       " 'either',\n",
       " '‘re',\n",
       " 'where',\n",
       " 'seems',\n",
       " 'rather',\n",
       " 'though',\n",
       " 'became',\n",
       " 'on',\n",
       " 'no',\n",
       " 'had',\n",
       " 'ca',\n",
       " 'top',\n",
       " 'often',\n",
       " 'wherever',\n",
       " '’re',\n",
       " 'does',\n",
       " 'why',\n",
       " 'meanwhile',\n",
       " 'former',\n",
       " 'last',\n",
       " 'hers',\n",
       " 'afterwards',\n",
       " 'within',\n",
       " 'own',\n",
       " 'because',\n",
       " 'using',\n",
       " 'alone',\n",
       " 'myself',\n",
       " 'being',\n",
       " 'nine',\n",
       " 'over',\n",
       " 'whence',\n",
       " 'also',\n",
       " 'an',\n",
       " 'can',\n",
       " 'latterly',\n",
       " 'many',\n",
       " '‘m',\n",
       " \"'ve\",\n",
       " 'else',\n",
       " 'again',\n",
       " 'themselves',\n",
       " 'anyone',\n",
       " 'put',\n",
       " 'show',\n",
       " 'me',\n",
       " 'made',\n",
       " 'whereby',\n",
       " 'in',\n",
       " 'at',\n",
       " 'always',\n",
       " 'third',\n",
       " 'has',\n",
       " 'be',\n",
       " 'more',\n",
       " 'have',\n",
       " 'thence',\n",
       " 'above',\n",
       " \"n't\",\n",
       " 'whether',\n",
       " 'go',\n",
       " 'she',\n",
       " 'doing',\n",
       " 'several',\n",
       " 'eleven',\n",
       " 'beyond',\n",
       " 'now',\n",
       " 'between',\n",
       " 'call',\n",
       " 'beside',\n",
       " 'unless',\n",
       " 'throughout',\n",
       " 'part',\n",
       " 'their',\n",
       " 'indeed',\n",
       " 'fifteen',\n",
       " 'least',\n",
       " 'who',\n",
       " '‘d',\n",
       " 'forty',\n",
       " 'did',\n",
       " 'mostly',\n",
       " 'us',\n",
       " 'hereupon',\n",
       " 'everywhere',\n",
       " 'six',\n",
       " '‘ve',\n",
       " 'take',\n",
       " 'eight',\n",
       " 'until',\n",
       " 'not',\n",
       " 'hereafter',\n",
       " 'only',\n",
       " 'much',\n",
       " 'thereupon',\n",
       " 'n’t',\n",
       " 'these',\n",
       " '’s',\n",
       " 'should',\n",
       " 'even',\n",
       " 'few',\n",
       " 'something',\n",
       " 'sometimes',\n",
       " 'back',\n",
       " 'towards',\n",
       " 'but',\n",
       " 'other',\n",
       " 'bottom',\n",
       " 'seemed',\n",
       " 'anyway',\n",
       " 'for',\n",
       " 'too',\n",
       " 'already',\n",
       " 'very',\n",
       " 'whom',\n",
       " 'yours',\n",
       " 'yourself',\n",
       " 'besides',\n",
       " 'via',\n",
       " 'due',\n",
       " 'so',\n",
       " 'along',\n",
       " 'yet',\n",
       " 'your',\n",
       " 'them',\n",
       " 'all',\n",
       " 'thereby',\n",
       " 'side',\n",
       " 'across',\n",
       " 'we',\n",
       " 'ours',\n",
       " 'whereupon',\n",
       " 'thru',\n",
       " 'nowhere',\n",
       " '’m',\n",
       " 'moreover',\n",
       " 'except',\n",
       " 'whenever',\n",
       " 'becoming',\n",
       " 'mine',\n",
       " 'behind',\n",
       " 'then',\n",
       " 'whither',\n",
       " 'whereafter',\n",
       " '‘s',\n",
       " 'two',\n",
       " 'from',\n",
       " 'none',\n",
       " '‘ll',\n",
       " 'seem',\n",
       " 'ourselves',\n",
       " 'the',\n",
       " 'do',\n",
       " 'further',\n",
       " 'once',\n",
       " 'yourselves',\n",
       " 'never',\n",
       " 'just',\n",
       " 'sixty',\n",
       " '’d',\n",
       " 'a',\n",
       " 'are',\n",
       " 'him',\n",
       " 'amongst',\n",
       " 'could',\n",
       " 'may',\n",
       " 'since',\n",
       " '’ll',\n",
       " 'up',\n",
       " 'might',\n",
       " 'twenty',\n",
       " 'beforehand',\n",
       " 'thus',\n",
       " 'himself',\n",
       " 'done',\n",
       " 'against',\n",
       " 'her',\n",
       " 'full',\n",
       " 'and',\n",
       " 'would',\n",
       " 'various',\n",
       " 'he',\n",
       " 'move',\n",
       " 'anyhow',\n",
       " 'of',\n",
       " 'see',\n",
       " 'around',\n",
       " 'been',\n",
       " 'say',\n",
       " \"'d\",\n",
       " 'when',\n",
       " 'hundred',\n",
       " 'therein',\n",
       " 'keep',\n",
       " 'those',\n",
       " 're',\n",
       " \"'ll\",\n",
       " 'latter',\n",
       " 'together',\n",
       " \"'s\",\n",
       " 'both',\n",
       " 'becomes',\n",
       " \"'m\",\n",
       " 'sometime',\n",
       " 'any',\n",
       " 'amount',\n",
       " 'hereby',\n",
       " 'still',\n",
       " 'my',\n",
       " 'it',\n",
       " 'through',\n",
       " 'neither',\n",
       " 'somewhere',\n",
       " 'wherein',\n",
       " 'please',\n",
       " 'there',\n",
       " 'elsewhere',\n",
       " 'otherwise',\n",
       " 'toward',\n",
       " 'among',\n",
       " 'nor',\n",
       " \"'re\",\n",
       " 'herself',\n",
       " 'every',\n",
       " 'quite',\n",
       " 'almost',\n",
       " 'without',\n",
       " 'get',\n",
       " 'to',\n",
       " 'perhaps',\n",
       " 'formerly',\n",
       " 'each',\n",
       " 'whole',\n",
       " 'or',\n",
       " 'although',\n",
       " 'become']"
      ]
     },
     "execution_count": 3,
     "metadata": {},
     "output_type": "execute_result"
    }
   ],
   "source": [
    "# Build a List of Stopwords\n",
    "stopwords = list(STOP_WORDS)\n",
    "stopwords\n"
   ]
  },
  {
   "cell_type": "code",
   "execution_count": 4,
   "metadata": {},
   "outputs": [],
   "source": [
    "document1 =\"\"\"Machine learning (ML) is the scientific study of algorithms and statistical models that computer systems use to progressively improve their performance on a specific task. Machine learning algorithms build a mathematical model of sample data, known as \"training data\", in order to make predictions or decisions without being explicitly programmed to perform the task. Machine learning algorithms are used in the applications of email filtering, detection of network intruders, and computer vision, where it is infeasible to develop an algorithm of specific instructions for performing the task. Machine learning is closely related to computational statistics, which focuses on making predictions using computers. The study of mathematical optimization delivers methods, theory and application domains to the field of machine learning. Data mining is a field of study within machine learning, and focuses on exploratory data analysis through unsupervised learning.In its application across business problems, machine learning is also referred to as predictive analytics.\"\"\""
   ]
  },
  {
   "cell_type": "code",
   "execution_count": 5,
   "metadata": {},
   "outputs": [
    {
     "data": {
      "text/plain": [
       "'Machine learning (ML) is the scientific study of algorithms and statistical models that computer systems use to progressively improve their performance on a specific task. Machine learning algorithms build a mathematical model of sample data, known as \"training data\", in order to make predictions or decisions without being explicitly programmed to perform the task. Machine learning algorithms are used in the applications of email filtering, detection of network intruders, and computer vision, where it is infeasible to develop an algorithm of specific instructions for performing the task. Machine learning is closely related to computational statistics, which focuses on making predictions using computers. The study of mathematical optimization delivers methods, theory and application domains to the field of machine learning. Data mining is a field of study within machine learning, and focuses on exploratory data analysis through unsupervised learning.In its application across business problems, machine learning is also referred to as predictive analytics.'"
      ]
     },
     "execution_count": 5,
     "metadata": {},
     "output_type": "execute_result"
    }
   ],
   "source": [
    "document1"
   ]
  },
  {
   "cell_type": "code",
   "execution_count": 31,
   "metadata": {},
   "outputs": [
    {
     "data": {
      "text/plain": [
       "1069"
      ]
     },
     "execution_count": 31,
     "metadata": {},
     "output_type": "execute_result"
    }
   ],
   "source": [
    "len(document1)"
   ]
  },
  {
   "cell_type": "code",
   "execution_count": 6,
   "metadata": {},
   "outputs": [],
   "source": [
    "document2 = \"\"\"Our Father who art in heaven, hallowed be thy name. Thy kingdom come. Thy will be done, on earth as it is in heaven. Give us this day our daily bread; and forgive us our trespasses, as we forgive those who trespass against us; and lead us not into temptation, but deliver us from evil\n",
    "\"\"\""
   ]
  },
  {
   "cell_type": "code",
   "execution_count": 7,
   "metadata": {},
   "outputs": [
    {
     "data": {
      "text/plain": [
       "'Our Father who art in heaven, hallowed be thy name. Thy kingdom come. Thy will be done, on earth as it is in heaven. Give us this day our daily bread; and forgive us our trespasses, as we forgive those who trespass against us; and lead us not into temptation, but deliver us from evil\\n'"
      ]
     },
     "execution_count": 7,
     "metadata": {},
     "output_type": "execute_result"
    }
   ],
   "source": [
    "document2"
   ]
  },
  {
   "cell_type": "code",
   "execution_count": 32,
   "metadata": {},
   "outputs": [
    {
     "data": {
      "text/plain": [
       "285"
      ]
     },
     "execution_count": 32,
     "metadata": {},
     "output_type": "execute_result"
    }
   ],
   "source": [
    "len(document2)"
   ]
  },
  {
   "cell_type": "code",
   "execution_count": 8,
   "metadata": {},
   "outputs": [],
   "source": [
    "nlp = spacy.load('en_core_web_sm')"
   ]
  },
  {
   "cell_type": "code",
   "execution_count": 9,
   "metadata": {},
   "outputs": [
    {
     "data": {
      "text/plain": [
       "Machine learning (ML) is the scientific study of algorithms and statistical models that computer systems use to progressively improve their performance on a specific task. Machine learning algorithms build a mathematical model of sample data, known as \"training data\", in order to make predictions or decisions without being explicitly programmed to perform the task. Machine learning algorithms are used in the applications of email filtering, detection of network intruders, and computer vision, where it is infeasible to develop an algorithm of specific instructions for performing the task. Machine learning is closely related to computational statistics, which focuses on making predictions using computers. The study of mathematical optimization delivers methods, theory and application domains to the field of machine learning. Data mining is a field of study within machine learning, and focuses on exploratory data analysis through unsupervised learning.In its application across business problems, machine learning is also referred to as predictive analytics."
      ]
     },
     "execution_count": 9,
     "metadata": {},
     "output_type": "execute_result"
    }
   ],
   "source": [
    "# Build an NLP Object\n",
    "docx = nlp(document1)\n",
    "docx\n"
   ]
  },
  {
   "cell_type": "code",
   "execution_count": 10,
   "metadata": {},
   "outputs": [
    {
     "data": {
      "text/plain": [
       "['Machine',\n",
       " 'learning',\n",
       " '(',\n",
       " 'ML',\n",
       " ')',\n",
       " 'is',\n",
       " 'the',\n",
       " 'scientific',\n",
       " 'study',\n",
       " 'of',\n",
       " 'algorithms',\n",
       " 'and',\n",
       " 'statistical',\n",
       " 'models',\n",
       " 'that',\n",
       " 'computer',\n",
       " 'systems',\n",
       " 'use',\n",
       " 'to',\n",
       " 'progressively',\n",
       " 'improve',\n",
       " 'their',\n",
       " 'performance',\n",
       " 'on',\n",
       " 'a',\n",
       " 'specific',\n",
       " 'task',\n",
       " '.',\n",
       " 'Machine',\n",
       " 'learning',\n",
       " 'algorithms',\n",
       " 'build',\n",
       " 'a',\n",
       " 'mathematical',\n",
       " 'model',\n",
       " 'of',\n",
       " 'sample',\n",
       " 'data',\n",
       " ',',\n",
       " 'known',\n",
       " 'as',\n",
       " '\"',\n",
       " 'training',\n",
       " 'data',\n",
       " '\"',\n",
       " ',',\n",
       " 'in',\n",
       " 'order',\n",
       " 'to',\n",
       " 'make',\n",
       " 'predictions',\n",
       " 'or',\n",
       " 'decisions',\n",
       " 'without',\n",
       " 'being',\n",
       " 'explicitly',\n",
       " 'programmed',\n",
       " 'to',\n",
       " 'perform',\n",
       " 'the',\n",
       " 'task',\n",
       " '.',\n",
       " 'Machine',\n",
       " 'learning',\n",
       " 'algorithms',\n",
       " 'are',\n",
       " 'used',\n",
       " 'in',\n",
       " 'the',\n",
       " 'applications',\n",
       " 'of',\n",
       " 'email',\n",
       " 'filtering',\n",
       " ',',\n",
       " 'detection',\n",
       " 'of',\n",
       " 'network',\n",
       " 'intruders',\n",
       " ',',\n",
       " 'and',\n",
       " 'computer',\n",
       " 'vision',\n",
       " ',',\n",
       " 'where',\n",
       " 'it',\n",
       " 'is',\n",
       " 'infeasible',\n",
       " 'to',\n",
       " 'develop',\n",
       " 'an',\n",
       " 'algorithm',\n",
       " 'of',\n",
       " 'specific',\n",
       " 'instructions',\n",
       " 'for',\n",
       " 'performing',\n",
       " 'the',\n",
       " 'task',\n",
       " '.',\n",
       " 'Machine',\n",
       " 'learning',\n",
       " 'is',\n",
       " 'closely',\n",
       " 'related',\n",
       " 'to',\n",
       " 'computational',\n",
       " 'statistics',\n",
       " ',',\n",
       " 'which',\n",
       " 'focuses',\n",
       " 'on',\n",
       " 'making',\n",
       " 'predictions',\n",
       " 'using',\n",
       " 'computers',\n",
       " '.',\n",
       " 'The',\n",
       " 'study',\n",
       " 'of',\n",
       " 'mathematical',\n",
       " 'optimization',\n",
       " 'delivers',\n",
       " 'methods',\n",
       " ',',\n",
       " 'theory',\n",
       " 'and',\n",
       " 'application',\n",
       " 'domains',\n",
       " 'to',\n",
       " 'the',\n",
       " 'field',\n",
       " 'of',\n",
       " 'machine',\n",
       " 'learning',\n",
       " '.',\n",
       " 'Data',\n",
       " 'mining',\n",
       " 'is',\n",
       " 'a',\n",
       " 'field',\n",
       " 'of',\n",
       " 'study',\n",
       " 'within',\n",
       " 'machine',\n",
       " 'learning',\n",
       " ',',\n",
       " 'and',\n",
       " 'focuses',\n",
       " 'on',\n",
       " 'exploratory',\n",
       " 'data',\n",
       " 'analysis',\n",
       " 'through',\n",
       " 'unsupervised',\n",
       " 'learning',\n",
       " '.',\n",
       " 'In',\n",
       " 'its',\n",
       " 'application',\n",
       " 'across',\n",
       " 'business',\n",
       " 'problems',\n",
       " ',',\n",
       " 'machine',\n",
       " 'learning',\n",
       " 'is',\n",
       " 'also',\n",
       " 'referred',\n",
       " 'to',\n",
       " 'as',\n",
       " 'predictive',\n",
       " 'analytics',\n",
       " '.']"
      ]
     },
     "execution_count": 10,
     "metadata": {},
     "output_type": "execute_result"
    }
   ],
   "source": [
    "# Tokenization of Text\n",
    "mytokens = [token.text for token in docx]\n",
    "mytokens"
   ]
  },
  {
   "cell_type": "markdown",
   "metadata": {},
   "source": [
    "# Word Frequency Table"
   ]
  },
  {
   "cell_type": "markdown",
   "metadata": {},
   "source": [
    "\n",
    "#dictionary of words and their counts\n",
    "#How many times each word appears in the document\n",
    "#Using non-stopwords"
   ]
  },
  {
   "cell_type": "code",
   "execution_count": null,
   "metadata": {},
   "outputs": [],
   "source": []
  },
  {
   "cell_type": "code",
   "execution_count": 11,
   "metadata": {},
   "outputs": [],
   "source": [
    "# Build Word Frequency\n",
    "# word.text is tokenization in spacy\n",
    "word_frequencies = {}\n",
    "for word in docx:\n",
    "    if word.text not in stopwords:\n",
    "            if word.text not in word_frequencies.keys():\n",
    "                word_frequencies[word.text] = 1\n",
    "            else:\n",
    "                word_frequencies[word.text] += 1"
   ]
  },
  {
   "cell_type": "code",
   "execution_count": 12,
   "metadata": {},
   "outputs": [
    {
     "data": {
      "text/plain": [
       "{'Machine': 4,\n",
       " 'learning': 8,\n",
       " '(': 1,\n",
       " 'ML': 1,\n",
       " ')': 1,\n",
       " 'scientific': 1,\n",
       " 'study': 3,\n",
       " 'algorithms': 3,\n",
       " 'statistical': 1,\n",
       " 'models': 1,\n",
       " 'computer': 2,\n",
       " 'systems': 1,\n",
       " 'use': 1,\n",
       " 'progressively': 1,\n",
       " 'improve': 1,\n",
       " 'performance': 1,\n",
       " 'specific': 2,\n",
       " 'task': 3,\n",
       " '.': 7,\n",
       " 'build': 1,\n",
       " 'mathematical': 2,\n",
       " 'model': 1,\n",
       " 'sample': 1,\n",
       " 'data': 3,\n",
       " ',': 9,\n",
       " 'known': 1,\n",
       " '\"': 2,\n",
       " 'training': 1,\n",
       " 'order': 1,\n",
       " 'predictions': 2,\n",
       " 'decisions': 1,\n",
       " 'explicitly': 1,\n",
       " 'programmed': 1,\n",
       " 'perform': 1,\n",
       " 'applications': 1,\n",
       " 'email': 1,\n",
       " 'filtering': 1,\n",
       " 'detection': 1,\n",
       " 'network': 1,\n",
       " 'intruders': 1,\n",
       " 'vision': 1,\n",
       " 'infeasible': 1,\n",
       " 'develop': 1,\n",
       " 'algorithm': 1,\n",
       " 'instructions': 1,\n",
       " 'performing': 1,\n",
       " 'closely': 1,\n",
       " 'related': 1,\n",
       " 'computational': 1,\n",
       " 'statistics': 1,\n",
       " 'focuses': 2,\n",
       " 'making': 1,\n",
       " 'computers': 1,\n",
       " 'The': 1,\n",
       " 'optimization': 1,\n",
       " 'delivers': 1,\n",
       " 'methods': 1,\n",
       " 'theory': 1,\n",
       " 'application': 2,\n",
       " 'domains': 1,\n",
       " 'field': 2,\n",
       " 'machine': 3,\n",
       " 'Data': 1,\n",
       " 'mining': 1,\n",
       " 'exploratory': 1,\n",
       " 'analysis': 1,\n",
       " 'unsupervised': 1,\n",
       " 'In': 1,\n",
       " 'business': 1,\n",
       " 'problems': 1,\n",
       " 'referred': 1,\n",
       " 'predictive': 1,\n",
       " 'analytics': 1}"
      ]
     },
     "execution_count": 12,
     "metadata": {},
     "output_type": "execute_result"
    }
   ],
   "source": [
    "word_frequencies"
   ]
  },
  {
   "cell_type": "markdown",
   "metadata": {},
   "source": [
    "# Maximum Word Frequency\n"
   ]
  },
  {
   "cell_type": "markdown",
   "metadata": {},
   "source": [
    "#find the weighted frequency\n",
    "#Each word over most occurring word\n",
    "#Long sentence over short sentenc"
   ]
  },
  {
   "cell_type": "code",
   "execution_count": 13,
   "metadata": {},
   "outputs": [
    {
     "data": {
      "text/plain": [
       "9"
      ]
     },
     "execution_count": 13,
     "metadata": {},
     "output_type": "execute_result"
    }
   ],
   "source": [
    "# Maximum Word Frequency\n",
    "maximum_frequency = max(word_frequencies.values())\n",
    "maximum_frequency"
   ]
  },
  {
   "cell_type": "code",
   "execution_count": 14,
   "metadata": {},
   "outputs": [],
   "source": [
    "for word in word_frequencies.keys():  \n",
    "        word_frequencies[word] = (word_frequencies[word]/maximum_frequency)"
   ]
  },
  {
   "cell_type": "markdown",
   "metadata": {},
   "source": [
    "# Word Frequency Distribution¶\n"
   ]
  },
  {
   "cell_type": "code",
   "execution_count": 15,
   "metadata": {},
   "outputs": [
    {
     "data": {
      "text/plain": [
       "{'Machine': 0.4444444444444444,\n",
       " 'learning': 0.8888888888888888,\n",
       " '(': 0.1111111111111111,\n",
       " 'ML': 0.1111111111111111,\n",
       " ')': 0.1111111111111111,\n",
       " 'scientific': 0.1111111111111111,\n",
       " 'study': 0.3333333333333333,\n",
       " 'algorithms': 0.3333333333333333,\n",
       " 'statistical': 0.1111111111111111,\n",
       " 'models': 0.1111111111111111,\n",
       " 'computer': 0.2222222222222222,\n",
       " 'systems': 0.1111111111111111,\n",
       " 'use': 0.1111111111111111,\n",
       " 'progressively': 0.1111111111111111,\n",
       " 'improve': 0.1111111111111111,\n",
       " 'performance': 0.1111111111111111,\n",
       " 'specific': 0.2222222222222222,\n",
       " 'task': 0.3333333333333333,\n",
       " '.': 0.7777777777777778,\n",
       " 'build': 0.1111111111111111,\n",
       " 'mathematical': 0.2222222222222222,\n",
       " 'model': 0.1111111111111111,\n",
       " 'sample': 0.1111111111111111,\n",
       " 'data': 0.3333333333333333,\n",
       " ',': 1.0,\n",
       " 'known': 0.1111111111111111,\n",
       " '\"': 0.2222222222222222,\n",
       " 'training': 0.1111111111111111,\n",
       " 'order': 0.1111111111111111,\n",
       " 'predictions': 0.2222222222222222,\n",
       " 'decisions': 0.1111111111111111,\n",
       " 'explicitly': 0.1111111111111111,\n",
       " 'programmed': 0.1111111111111111,\n",
       " 'perform': 0.1111111111111111,\n",
       " 'applications': 0.1111111111111111,\n",
       " 'email': 0.1111111111111111,\n",
       " 'filtering': 0.1111111111111111,\n",
       " 'detection': 0.1111111111111111,\n",
       " 'network': 0.1111111111111111,\n",
       " 'intruders': 0.1111111111111111,\n",
       " 'vision': 0.1111111111111111,\n",
       " 'infeasible': 0.1111111111111111,\n",
       " 'develop': 0.1111111111111111,\n",
       " 'algorithm': 0.1111111111111111,\n",
       " 'instructions': 0.1111111111111111,\n",
       " 'performing': 0.1111111111111111,\n",
       " 'closely': 0.1111111111111111,\n",
       " 'related': 0.1111111111111111,\n",
       " 'computational': 0.1111111111111111,\n",
       " 'statistics': 0.1111111111111111,\n",
       " 'focuses': 0.2222222222222222,\n",
       " 'making': 0.1111111111111111,\n",
       " 'computers': 0.1111111111111111,\n",
       " 'The': 0.1111111111111111,\n",
       " 'optimization': 0.1111111111111111,\n",
       " 'delivers': 0.1111111111111111,\n",
       " 'methods': 0.1111111111111111,\n",
       " 'theory': 0.1111111111111111,\n",
       " 'application': 0.2222222222222222,\n",
       " 'domains': 0.1111111111111111,\n",
       " 'field': 0.2222222222222222,\n",
       " 'machine': 0.3333333333333333,\n",
       " 'Data': 0.1111111111111111,\n",
       " 'mining': 0.1111111111111111,\n",
       " 'exploratory': 0.1111111111111111,\n",
       " 'analysis': 0.1111111111111111,\n",
       " 'unsupervised': 0.1111111111111111,\n",
       " 'In': 0.1111111111111111,\n",
       " 'business': 0.1111111111111111,\n",
       " 'problems': 0.1111111111111111,\n",
       " 'referred': 0.1111111111111111,\n",
       " 'predictive': 0.1111111111111111,\n",
       " 'analytics': 0.1111111111111111}"
      ]
     },
     "execution_count": 15,
     "metadata": {},
     "output_type": "execute_result"
    }
   ],
   "source": [
    "# Frequency Table\n",
    "word_frequencies"
   ]
  },
  {
   "cell_type": "markdown",
   "metadata": {},
   "source": [
    "# Sentence Score and Ranking of Words in Each Sentence\n"
   ]
  },
  {
   "cell_type": "markdown",
   "metadata": {},
   "source": [
    "#Sentence Tokens\n",
    "#scoring every sentence based on number of words\n",
    "#non stopwords in our word frequency table"
   ]
  },
  {
   "cell_type": "code",
   "execution_count": 16,
   "metadata": {},
   "outputs": [
    {
     "data": {
      "text/plain": [
       "[Machine learning (ML) is the scientific study of algorithms and statistical models that computer systems use to progressively improve their performance on a specific task.,\n",
       " Machine learning algorithms build a mathematical model of sample data, known as \"training data\", in order to make predictions or decisions without being explicitly programmed to perform the task.,\n",
       " Machine learning algorithms are used in the applications of email filtering, detection of network intruders, and computer vision, where it is infeasible to develop an algorithm of specific instructions for performing the task.,\n",
       " Machine learning is closely related to computational statistics, which focuses on making predictions using computers.,\n",
       " The study of mathematical optimization delivers methods, theory and application domains to the field of machine learning.,\n",
       " Data mining is a field of study within machine learning, and focuses on exploratory data analysis through unsupervised learning.,\n",
       " In its application across business problems, machine learning is also referred to as predictive analytics.]"
      ]
     },
     "execution_count": 16,
     "metadata": {},
     "output_type": "execute_result"
    }
   ],
   "source": [
    "# Sentence Tokens\n",
    "sentence_list = [ sentence for sentence in docx.sents ]\n",
    "sentence_list"
   ]
  },
  {
   "cell_type": "code",
   "execution_count": 17,
   "metadata": {},
   "outputs": [
    {
     "data": {
      "text/plain": [
       "['machine',\n",
       " 'learning',\n",
       " '(',\n",
       " 'ml',\n",
       " ')',\n",
       " 'is',\n",
       " 'the',\n",
       " 'scientific',\n",
       " 'study',\n",
       " 'of',\n",
       " 'algorithms',\n",
       " 'and',\n",
       " 'statistical',\n",
       " 'models',\n",
       " 'that',\n",
       " 'computer',\n",
       " 'systems',\n",
       " 'use',\n",
       " 'to',\n",
       " 'progressively',\n",
       " 'improve',\n",
       " 'their',\n",
       " 'performance',\n",
       " 'on',\n",
       " 'a',\n",
       " 'specific',\n",
       " 'task',\n",
       " '.',\n",
       " 'machine',\n",
       " 'learning',\n",
       " 'algorithms',\n",
       " 'build',\n",
       " 'a',\n",
       " 'mathematical',\n",
       " 'model',\n",
       " 'of',\n",
       " 'sample',\n",
       " 'data',\n",
       " ',',\n",
       " 'known',\n",
       " 'as',\n",
       " '\"',\n",
       " 'training',\n",
       " 'data',\n",
       " '\"',\n",
       " ',',\n",
       " 'in',\n",
       " 'order',\n",
       " 'to',\n",
       " 'make',\n",
       " 'predictions',\n",
       " 'or',\n",
       " 'decisions',\n",
       " 'without',\n",
       " 'being',\n",
       " 'explicitly',\n",
       " 'programmed',\n",
       " 'to',\n",
       " 'perform',\n",
       " 'the',\n",
       " 'task',\n",
       " '.',\n",
       " 'machine',\n",
       " 'learning',\n",
       " 'algorithms',\n",
       " 'are',\n",
       " 'used',\n",
       " 'in',\n",
       " 'the',\n",
       " 'applications',\n",
       " 'of',\n",
       " 'email',\n",
       " 'filtering',\n",
       " ',',\n",
       " 'detection',\n",
       " 'of',\n",
       " 'network',\n",
       " 'intruders',\n",
       " ',',\n",
       " 'and',\n",
       " 'computer',\n",
       " 'vision',\n",
       " ',',\n",
       " 'where',\n",
       " 'it',\n",
       " 'is',\n",
       " 'infeasible',\n",
       " 'to',\n",
       " 'develop',\n",
       " 'an',\n",
       " 'algorithm',\n",
       " 'of',\n",
       " 'specific',\n",
       " 'instructions',\n",
       " 'for',\n",
       " 'performing',\n",
       " 'the',\n",
       " 'task',\n",
       " '.',\n",
       " 'machine',\n",
       " 'learning',\n",
       " 'is',\n",
       " 'closely',\n",
       " 'related',\n",
       " 'to',\n",
       " 'computational',\n",
       " 'statistics',\n",
       " ',',\n",
       " 'which',\n",
       " 'focuses',\n",
       " 'on',\n",
       " 'making',\n",
       " 'predictions',\n",
       " 'using',\n",
       " 'computers',\n",
       " '.',\n",
       " 'the',\n",
       " 'study',\n",
       " 'of',\n",
       " 'mathematical',\n",
       " 'optimization',\n",
       " 'delivers',\n",
       " 'methods',\n",
       " ',',\n",
       " 'theory',\n",
       " 'and',\n",
       " 'application',\n",
       " 'domains',\n",
       " 'to',\n",
       " 'the',\n",
       " 'field',\n",
       " 'of',\n",
       " 'machine',\n",
       " 'learning',\n",
       " '.',\n",
       " 'data',\n",
       " 'mining',\n",
       " 'is',\n",
       " 'a',\n",
       " 'field',\n",
       " 'of',\n",
       " 'study',\n",
       " 'within',\n",
       " 'machine',\n",
       " 'learning',\n",
       " ',',\n",
       " 'and',\n",
       " 'focuses',\n",
       " 'on',\n",
       " 'exploratory',\n",
       " 'data',\n",
       " 'analysis',\n",
       " 'through',\n",
       " 'unsupervised',\n",
       " 'learning',\n",
       " '.',\n",
       " 'in',\n",
       " 'its',\n",
       " 'application',\n",
       " 'across',\n",
       " 'business',\n",
       " 'problems',\n",
       " ',',\n",
       " 'machine',\n",
       " 'learning',\n",
       " 'is',\n",
       " 'also',\n",
       " 'referred',\n",
       " 'to',\n",
       " 'as',\n",
       " 'predictive',\n",
       " 'analytics',\n",
       " '.']"
      ]
     },
     "execution_count": 17,
     "metadata": {},
     "output_type": "execute_result"
    }
   ],
   "source": [
    "# Example of Sentence Tokenization,Word Tokenization and Lowering All Text\n",
    "# for t in sentence_list:\n",
    "#     for w in t:\n",
    "#         print(w.text.lower())\n",
    "[w.text.lower() for t in sentence_list for w in t ]"
   ]
  },
  {
   "cell_type": "code",
   "execution_count": 18,
   "metadata": {},
   "outputs": [],
   "source": [
    "# Sentence Score via comparrng each word with sentence\n",
    "sentence_scores = {}  \n",
    "for sent in sentence_list:  \n",
    "        for word in sent:\n",
    "            if word.text.lower() in word_frequencies.keys():\n",
    "                if len(sent.text.split(' ')) < 30:\n",
    "                    if sent not in sentence_scores.keys():\n",
    "                        sentence_scores[sent] = word_frequencies[word.text.lower()]\n",
    "                    else:\n",
    "                        sentence_scores[sent] += word_frequencies[word.text.lower()]"
   ]
  },
  {
   "cell_type": "code",
   "execution_count": 19,
   "metadata": {},
   "outputs": [
    {
     "data": {
      "text/plain": [
       "{Machine learning (ML) is the scientific study of algorithms and statistical models that computer systems use to progressively improve their performance on a specific task.: 4.555555555555556,\n",
       " Machine learning algorithms build a mathematical model of sample data, known as \"training data\", in order to make predictions or decisions without being explicitly programmed to perform the task.: 7.333333333333331,\n",
       " Machine learning is closely related to computational statistics, which focuses on making predictions using computers.: 4.111111111111112,\n",
       " The study of mathematical optimization delivers methods, theory and application domains to the field of machine learning.: 4.555555555555556,\n",
       " Data mining is a field of study within machine learning, and focuses on exploratory data analysis through unsupervised learning.: 5.777777777777778,\n",
       " In its application across business problems, machine learning is also referred to as predictive analytics.: 3.7777777777777777}"
      ]
     },
     "execution_count": 19,
     "metadata": {},
     "output_type": "execute_result"
    }
   ],
   "source": [
    "sentence_scores"
   ]
  },
  {
   "cell_type": "markdown",
   "metadata": {},
   "source": [
    "# Finding Top N Sentence with largest score¶"
   ]
  },
  {
   "cell_type": "code",
   "execution_count": null,
   "metadata": {},
   "outputs": [],
   "source": []
  },
  {
   "cell_type": "code",
   "execution_count": null,
   "metadata": {},
   "outputs": [],
   "source": []
  },
  {
   "cell_type": "code",
   "execution_count": 20,
   "metadata": {},
   "outputs": [],
   "source": [
    "from heapq import nlargest"
   ]
  },
  {
   "cell_type": "code",
   "execution_count": 21,
   "metadata": {},
   "outputs": [],
   "source": [
    "summarized_sentences = nlargest(7, sentence_scores, key=sentence_scores.get)\n",
    "\n"
   ]
  },
  {
   "cell_type": "code",
   "execution_count": 22,
   "metadata": {},
   "outputs": [
    {
     "data": {
      "text/plain": [
       "6"
      ]
     },
     "execution_count": 22,
     "metadata": {},
     "output_type": "execute_result"
    }
   ],
   "source": [
    "len(summarized_sentences)"
   ]
  },
  {
   "cell_type": "code",
   "execution_count": 23,
   "metadata": {},
   "outputs": [
    {
     "name": "stdout",
     "output_type": "stream",
     "text": [
      "Machine learning algorithms build a mathematical model of sample data, known as \"training data\", in order to make predictions or decisions without being explicitly programmed to perform the task.\n",
      "Data mining is a field of study within machine learning, and focuses on exploratory data analysis through unsupervised learning.\n",
      "Machine learning (ML) is the scientific study of algorithms and statistical models that computer systems use to progressively improve their performance on a specific task.\n",
      "The study of mathematical optimization delivers methods, theory and application domains to the field of machine learning.\n",
      "Machine learning is closely related to computational statistics, which focuses on making predictions using computers.\n",
      "In its application across business problems, machine learning is also referred to as predictive analytics.\n"
     ]
    }
   ],
   "source": [
    "# Convert Sentences from Spacy Span to Strings for joining entire sentence\n",
    "for w in summarized_sentences:\n",
    "    print(w.text)"
   ]
  },
  {
   "cell_type": "code",
   "execution_count": 24,
   "metadata": {},
   "outputs": [
    {
     "data": {
      "text/plain": [
       "['Machine learning algorithms build a mathematical model of sample data, known as \"training data\", in order to make predictions or decisions without being explicitly programmed to perform the task.',\n",
       " 'Data mining is a field of study within machine learning, and focuses on exploratory data analysis through unsupervised learning.',\n",
       " 'Machine learning (ML) is the scientific study of algorithms and statistical models that computer systems use to progressively improve their performance on a specific task.',\n",
       " 'The study of mathematical optimization delivers methods, theory and application domains to the field of machine learning.',\n",
       " 'Machine learning is closely related to computational statistics, which focuses on making predictions using computers.',\n",
       " 'In its application across business problems, machine learning is also referred to as predictive analytics.']"
      ]
     },
     "execution_count": 24,
     "metadata": {},
     "output_type": "execute_result"
    }
   ],
   "source": [
    "# List Comprehension of Sentences Converted From Spacy.span to strings\n",
    "final_sentences = [ w.text for w in summarized_sentences ]\n",
    "final_sentences"
   ]
  },
  {
   "cell_type": "code",
   "execution_count": 25,
   "metadata": {},
   "outputs": [],
   "source": [
    "summary = ' '.join(final_sentences)"
   ]
  },
  {
   "cell_type": "code",
   "execution_count": 26,
   "metadata": {},
   "outputs": [
    {
     "data": {
      "text/plain": [
       "'Machine learning algorithms build a mathematical model of sample data, known as \"training data\", in order to make predictions or decisions without being explicitly programmed to perform the task. Data mining is a field of study within machine learning, and focuses on exploratory data analysis through unsupervised learning. Machine learning (ML) is the scientific study of algorithms and statistical models that computer systems use to progressively improve their performance on a specific task. The study of mathematical optimization delivers methods, theory and application domains to the field of machine learning. Machine learning is closely related to computational statistics, which focuses on making predictions using computers. In its application across business problems, machine learning is also referred to as predictive analytics.'"
      ]
     },
     "execution_count": 26,
     "metadata": {},
     "output_type": "execute_result"
    }
   ],
   "source": [
    "summary"
   ]
  },
  {
   "cell_type": "code",
   "execution_count": 27,
   "metadata": {},
   "outputs": [
    {
     "data": {
      "text/plain": [
       "843"
      ]
     },
     "execution_count": 27,
     "metadata": {},
     "output_type": "execute_result"
    }
   ],
   "source": [
    "len(summary)"
   ]
  },
  {
   "cell_type": "code",
   "execution_count": 28,
   "metadata": {},
   "outputs": [],
   "source": [
    "# Place All As A Function For Reuseability\n",
    "def text_summarizer(raw_docx):\n",
    "    raw_text = raw_docx\n",
    "    docx = nlp(raw_text)\n",
    "    stopwords = list(STOP_WORDS)\n",
    "    # Build Word Frequency\n",
    "# word.text is tokenization in spacy\n",
    "    word_frequencies = {}  \n",
    "    for word in docx:  \n",
    "        if word.text not in stopwords:\n",
    "            if word.text not in word_frequencies.keys():\n",
    "                word_frequencies[word.text] = 1\n",
    "            else:\n",
    "                word_frequencies[word.text] += 1\n",
    "\n",
    "\n",
    "    maximum_frequncy = max(word_frequencies.values())\n",
    "\n",
    "    for word in word_frequencies.keys():  \n",
    "        word_frequencies[word] = (word_frequencies[word]/maximum_frequncy)\n",
    "    # Sentence Tokens\n",
    "    sentence_list = [ sentence for sentence in docx.sents ]\n",
    "\n",
    "    # Calculate Sentence Score and Ranking\n",
    "    sentence_scores = {}  \n",
    "    for sent in sentence_list:  \n",
    "        for word in sent:\n",
    "            if word.text.lower() in word_frequencies.keys():\n",
    "                if len(sent.text.split(' ')) < 30:\n",
    "                    if sent not in sentence_scores.keys():\n",
    "                        sentence_scores[sent] = word_frequencies[word.text.lower()]\n",
    "                    else:\n",
    "                        sentence_scores[sent] += word_frequencies[word.text.lower()]\n",
    "\n",
    "    # Find N Largest\n",
    "    summary_sentences = nlargest(7, sentence_scores, key=sentence_scores.get)\n",
    "    final_sentences = [ w.text for w in summary_sentences ]\n",
    "    summary = ' '.join(final_sentences)\n",
    "    print(\"Original Document\\n\")\n",
    "    print(raw_docx)\n",
    "    print(\"Total Length:\",len(raw_docx))\n",
    "    print('\\n\\nSummarized Document\\n')\n",
    "    print(summary)\n",
    "    print(\"Total Length:\",len(summary))\n"
   ]
  },
  {
   "cell_type": "code",
   "execution_count": 29,
   "metadata": {},
   "outputs": [
    {
     "name": "stdout",
     "output_type": "stream",
     "text": [
      "Original Document\n",
      "\n",
      "Our Father who art in heaven, hallowed be thy name. Thy kingdom come. Thy will be done, on earth as it is in heaven. Give us this day our daily bread; and forgive us our trespasses, as we forgive those who trespass against us; and lead us not into temptation, but deliver us from evil\n",
      "\n",
      "Total Length: 285\n",
      "\n",
      "\n",
      "Summarized Document\n",
      "\n",
      "Our Father who art in heaven, hallowed be thy name. Thy will be done, on earth as it is in heaven. Thy kingdom come.\n",
      "Total Length: 116\n"
     ]
    }
   ],
   "source": [
    "text_summarizer(document2)"
   ]
  },
  {
   "cell_type": "code",
   "execution_count": 30,
   "metadata": {},
   "outputs": [
    {
     "name": "stdout",
     "output_type": "stream",
     "text": [
      "Original Document\n",
      "\n",
      "Machine learning (ML) is the scientific study of algorithms and statistical models that computer systems use to progressively improve their performance on a specific task. Machine learning algorithms build a mathematical model of sample data, known as \"training data\", in order to make predictions or decisions without being explicitly programmed to perform the task. Machine learning algorithms are used in the applications of email filtering, detection of network intruders, and computer vision, where it is infeasible to develop an algorithm of specific instructions for performing the task. Machine learning is closely related to computational statistics, which focuses on making predictions using computers. The study of mathematical optimization delivers methods, theory and application domains to the field of machine learning. Data mining is a field of study within machine learning, and focuses on exploratory data analysis through unsupervised learning.In its application across business problems, machine learning is also referred to as predictive analytics.\n",
      "Total Length: 1069\n",
      "\n",
      "\n",
      "Summarized Document\n",
      "\n",
      "Machine learning algorithms build a mathematical model of sample data, known as \"training data\", in order to make predictions or decisions without being explicitly programmed to perform the task. Data mining is a field of study within machine learning, and focuses on exploratory data analysis through unsupervised learning. Machine learning (ML) is the scientific study of algorithms and statistical models that computer systems use to progressively improve their performance on a specific task. The study of mathematical optimization delivers methods, theory and application domains to the field of machine learning. Machine learning is closely related to computational statistics, which focuses on making predictions using computers. In its application across business problems, machine learning is also referred to as predictive analytics.\n",
      "Total Length: 843\n"
     ]
    }
   ],
   "source": [
    "text_summarizer(document1)"
   ]
  },
  {
   "cell_type": "code",
   "execution_count": null,
   "metadata": {},
   "outputs": [],
   "source": []
  },
  {
   "cell_type": "code",
   "execution_count": null,
   "metadata": {},
   "outputs": [],
   "source": []
  },
  {
   "cell_type": "code",
   "execution_count": null,
   "metadata": {},
   "outputs": [],
   "source": []
  },
  {
   "cell_type": "code",
   "execution_count": null,
   "metadata": {},
   "outputs": [],
   "source": []
  },
  {
   "cell_type": "code",
   "execution_count": null,
   "metadata": {},
   "outputs": [],
   "source": []
  },
  {
   "cell_type": "code",
   "execution_count": null,
   "metadata": {},
   "outputs": [],
   "source": []
  },
  {
   "cell_type": "code",
   "execution_count": null,
   "metadata": {},
   "outputs": [],
   "source": []
  },
  {
   "cell_type": "code",
   "execution_count": null,
   "metadata": {},
   "outputs": [],
   "source": []
  },
  {
   "cell_type": "code",
   "execution_count": null,
   "metadata": {},
   "outputs": [],
   "source": []
  },
  {
   "cell_type": "code",
   "execution_count": null,
   "metadata": {},
   "outputs": [],
   "source": []
  },
  {
   "cell_type": "code",
   "execution_count": null,
   "metadata": {},
   "outputs": [],
   "source": []
  }
 ],
 "metadata": {
  "kernelspec": {
   "display_name": "Python 3",
   "language": "python",
   "name": "python3"
  },
  "language_info": {
   "codemirror_mode": {
    "name": "ipython",
    "version": 3
   },
   "file_extension": ".py",
   "mimetype": "text/x-python",
   "name": "python",
   "nbconvert_exporter": "python",
   "pygments_lexer": "ipython3",
   "version": "3.7.3"
  }
 },
 "nbformat": 4,
 "nbformat_minor": 2
}
